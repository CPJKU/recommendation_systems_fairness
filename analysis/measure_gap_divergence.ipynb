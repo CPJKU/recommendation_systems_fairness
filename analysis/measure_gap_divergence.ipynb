{
 "cells": [
  {
   "cell_type": "code",
   "execution_count": 104,
   "metadata": {},
   "outputs": [],
   "source": [
    "import os\n",
    "import math\n",
    "from datetime import datetime\n",
    "from scipy import sparse as sp\n",
    "import numpy as np\n",
    "from sklearn.linear_model import ElasticNet\n",
    "from sklearn.model_selection import ParameterGrid\n",
    "from tqdm import tqdm, trange\n",
    "\n",
    "from algorithms.slim.slim import SLIM\n",
    "from conf import UN_LOG_VAL_STR, UN_LOG_TE_STR, DATA_PATH, DEMO_PATH, UN_OUT_DIR, DEMO_TRAITS\n",
    "from utils.data_splitter import DataSplitter\n",
    "from utils.eval import eval_proced, eval_metric\n",
    "from utils.helper import pickle_dump, pickle_load\n",
    "\n",
    "import csv\n",
    "\n"
   ]
  },
  {
   "cell_type": "code",
   "execution_count": 105,
   "metadata": {},
   "outputs": [
    {
     "name": "stderr",
     "output_type": "stream",
     "text": [
      "folds: 100%|██████████| 5/5 [00:04<00:00,  1.03it/s]\n"
     ]
    }
   ],
   "source": [
    "sp_tr_data = []\n",
    "\n",
    "now = datetime.now()\n",
    "user_groups = []\n",
    "\n",
    "for fold_n in trange(5, desc='folds'):\n",
    "\n",
    "    log_val_str = UN_LOG_VAL_STR.format('slim', now, fold_n)\n",
    "    log_te_str = UN_LOG_TE_STR.format('slim', now, fold_n)\n",
    "\n",
    "    ds = DataSplitter(DATA_PATH, DEMO_PATH, out_dir=UN_OUT_DIR)\n",
    "    pandas_dir_path, scipy_dir_path, uids_dic_path, tids_path = ds.get_paths(fold_n=fold_n)\n",
    "\n",
    "    \n",
    "    user_groups.append(ds.get_user_groups_indxs(pandas_dir_path, 'gender'))\n",
    "    "
   ]
  },
  {
   "cell_type": "code",
   "execution_count": 106,
   "metadata": {},
   "outputs": [
    {
     "name": "stdout",
     "output_type": "stream",
     "text": [
      "[3137, 3066, 3115, 3112, 3126]\n",
      "[858, 928, 879, 882, 868]\n",
      "15556\n",
      "4415\n",
      "0.7789294476991638\n",
      "0.22107055230083622\n"
     ]
    }
   ],
   "source": [
    "male_cnts = []\n",
    "female_cnts = []\n",
    "for user_group in user_groups:\n",
    "    male_cnts.append(len(user_group[0].te_indxs))\n",
    "    female_cnts.append(len(user_group[1].te_indxs))\n",
    "    \n",
    "male_cnt = np.sum(male_indxs)\n",
    "female_cnt = np.sum(female_indxs)\n",
    "\n",
    "male_coll_portion = male_cnt/(male_cnt+female_cnt)\n",
    "female_coll_portion = female_cnt/(male_cnt+female_cnt)\n",
    "\n",
    "print (male_cnts)\n",
    "print (female_cnts)\n",
    "print (male_cnt)\n",
    "print (female_cnt)\n",
    "print (male_coll_portion)\n",
    "print (female_coll_portion)"
   ]
  },
  {
   "cell_type": "code",
   "execution_count": 103,
   "metadata": {},
   "outputs": [
    {
     "data": {
      "text/plain": [
       "[3137, 3066, 3115, 3112, 3126]"
      ]
     },
     "execution_count": 103,
     "metadata": {},
     "output_type": "execute_result"
    }
   ],
   "source": []
  },
  {
   "cell_type": "code",
   "execution_count": 107,
   "metadata": {},
   "outputs": [],
   "source": [
    "\n",
    "results_all = {} \n",
    "with open('hparams_table.csv', newline='') as csvfile:\n",
    "    csv_rd = csv.reader(csvfile, delimiter=',')\n",
    "    for row_i, row in enumerate(csv_rd):\n",
    "        if row_i == 0:\n",
    "            titles = row[1:]\n",
    "            for x_i, x in enumerate(row[1:]):\n",
    "                results_all[x] = []\n",
    "        else:\n",
    "            for x_i, x in enumerate(row[1:]):\n",
    "                results_all[titles[x_i]].append(float(x))\n",
    "        \n",
    "\n"
   ]
  },
  {
   "cell_type": "code",
   "execution_count": 109,
   "metadata": {},
   "outputs": [
    {
     "data": {
      "text/plain": [
       "dict_keys(['test/gender/m_ndcg_at_5', 'test/gender/f_ndcg_at_5', 'test/gender/m_recall_at_5', 'test/gender/f_recall_at_5', 'test/gender/m_ndcg_at_10', 'test/gender/f_ndcg_at_10', 'test/gender/m_recall_at_10', 'test/gender/f_recall_at_10', 'test/gender/m_ndcg_at_50', 'test/gender/f_ndcg_at_50', 'test/gender/m_recall_at_50', 'test/gender/f_recall_at_50'])"
      ]
     },
     "execution_count": 109,
     "metadata": {},
     "output_type": "execute_result"
    }
   ],
   "source": [
    "results_all.keys()"
   ]
  },
  {
   "cell_type": "code",
   "execution_count": 110,
   "metadata": {},
   "outputs": [],
   "source": [
    "results_sumqry = {}\n",
    "results_avg = {}\n",
    "for _key in results_all:\n",
    "    item = results_all[_key]\n",
    "    _metric = _key.split('/')[-1][2:]\n",
    "    _gender = _key.split('/')[-1][0]\n",
    "    \n",
    "    if _metric not in results_avg:\n",
    "        results_avg[_metric] = {'m': 0, 'f': 0}\n",
    "    results_avg[_metric][_gender] = np.mean(item)\n",
    "    _lst = []\n",
    "    for item_fold_i, item_fold in enumerate(item):\n",
    "        if _gender == 'm':\n",
    "            _lst.append(item_fold * male_cnts[item_fold_i])\n",
    "        elif _gender == 'f':\n",
    "            _lst.append(item_fold * female_cnts[item_fold_i])\n",
    "        else:\n",
    "            print('error')\n",
    "    \n",
    "    if _metric not in results_sumqry:\n",
    "        results_sumqry[_metric] = {'m': 0, 'f': 0}\n",
    "    results_sumqry[_metric][_gender] = np.sum(_lst)\n",
    "\n"
   ]
  },
  {
   "cell_type": "code",
   "execution_count": 111,
   "metadata": {},
   "outputs": [
    {
     "data": {
      "text/plain": [
       "[0.19974204897880554,\n",
       " 0.19544340670108795,\n",
       " 0.20901627838611603,\n",
       " 0.19655463099479675,\n",
       " 0.20161408185958862]"
      ]
     },
     "execution_count": 111,
     "metadata": {},
     "output_type": "execute_result"
    }
   ],
   "source": [
    "item"
   ]
  },
  {
   "cell_type": "code",
   "execution_count": 112,
   "metadata": {},
   "outputs": [
    {
     "data": {
      "text/plain": [
       "[3137, 3066, 3115, 3112, 3126]"
      ]
     },
     "execution_count": 112,
     "metadata": {},
     "output_type": "execute_result"
    }
   ],
   "source": [
    "male_cnts"
   ]
  },
  {
   "cell_type": "code",
   "execution_count": 86,
   "metadata": {},
   "outputs": [
    {
     "data": {
      "text/plain": [
       "{'ndcg_at_5': {'m': 3482.088018089533, 'f': 854.3125765919685},\n",
       " 'recall_at_5': {'m': 3237.983302742243, 'f': 788.9000030010939},\n",
       " 'ndcg_at_10': {'m': 3058.222583323717, 'f': 764.6768234819174},\n",
       " 'recall_at_10': {'m': 2786.9635389894247, 'f': 709.234129935503},\n",
       " 'ndcg_at_50': {'m': 2642.48194180429, 'f': 743.0262452960014},\n",
       " 'recall_at_50': {'m': 2849.937973961234, 'f': 884.8376757353544}}"
      ]
     },
     "execution_count": 86,
     "metadata": {},
     "output_type": "execute_result"
    }
   ],
   "source": [
    "results_sumqry"
   ]
  },
  {
   "cell_type": "code",
   "execution_count": 124,
   "metadata": {},
   "outputs": [
    {
     "name": "stdout",
     "output_type": "stream",
     "text": [
      "**Collection Distribution**\n",
      "Female: 0.2211\n",
      "Male:   0.7789\n",
      "\n",
      "**Gain Distribution**\n",
      "ndcg_at_5\n",
      "Male:       0.803\n",
      "Female:     0.197\n",
      "Divergence: 0.067994\n",
      "\n",
      "recall_at_5\n",
      "Male:       0.804\n",
      "Female:     0.196\n",
      "Divergence: 0.071034\n",
      "\n",
      "ndcg_at_10\n",
      "Male:       0.800\n",
      "Female:     0.200\n",
      "Divergence: 0.059637\n",
      "\n",
      "recall_at_10\n",
      "Male:       0.797\n",
      "Female:     0.203\n",
      "Divergence: 0.051740\n",
      "\n",
      "ndcg_at_50\n",
      "Male:       0.781\n",
      "Female:     0.219\n",
      "Divergence: 0.004605\n",
      "\n",
      "recall_at_50\n",
      "Male:       0.763\n",
      "Female:     0.237\n",
      "Divergence: -0.046294\n",
      "\n"
     ]
    }
   ],
   "source": [
    "def kl_divergence(p, q):\n",
    "    return sum(p[i] * np.log2(p[i]/q[i]) for i in range(len(p)))\n",
    "\n",
    "def new_divergence(p, q):\n",
    "    return (p[0] * np.log2(p[0]/q[0])) - (p[1] * np.log2(p[1]/q[1]))\n",
    "    #return (p[0] * np.log2(p[0]/q[0])) + ((1-p[0]) * np.log2(((1-p[0])))/(1-p[1]))\n",
    "\n",
    "\n",
    "\n",
    "\n",
    "print (\"**Collection Distribution**\")\n",
    "print (\"Female: %.4f\" % female_coll_portion)\n",
    "print (\"Male:   %.4f\" % male_coll_portion)\n",
    "print ()\n",
    "print (\"**Gain Distribution**\")\n",
    "for _m in results_sumqry:\n",
    "    print (_m)\n",
    "    item = results_sumqry[_m]\n",
    "    female_portion = item['f']/(item['m']+item['f'])\n",
    "    male_portion = item['m']/(item['m']+item['f'])\n",
    "    \n",
    "    #divergence = kl_divergence([male_portion, female_portion], [male_coll_portion, female_coll_portion])\n",
    "    divergence = new_divergence([male_portion, female_portion], [male_coll_portion, female_coll_portion])\n",
    "    \n",
    "    print (\"Male:       %.3f\" % male_portion)\n",
    "    print (\"Female:     %.3f\" % female_portion)\n",
    "    print (\"Divergence: %.6f\" % (divergence))\n",
    "    print ()"
   ]
  },
  {
   "cell_type": "code",
   "execution_count": null,
   "metadata": {},
   "outputs": [],
   "source": []
  },
  {
   "cell_type": "code",
   "execution_count": null,
   "metadata": {},
   "outputs": [],
   "source": []
  },
  {
   "cell_type": "code",
   "execution_count": null,
   "metadata": {},
   "outputs": [],
   "source": []
  }
 ],
 "metadata": {
  "kernelspec": {
   "display_name": "Python 3",
   "language": "python",
   "name": "python3"
  },
  "language_info": {
   "codemirror_mode": {
    "name": "ipython",
    "version": 3
   },
   "file_extension": ".py",
   "mimetype": "text/x-python",
   "name": "python",
   "nbconvert_exporter": "python",
   "pygments_lexer": "ipython3",
   "version": "3.7.4"
  }
 },
 "nbformat": 4,
 "nbformat_minor": 4
}
