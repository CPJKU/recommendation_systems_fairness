{
 "cells": [
  {
   "cell_type": "code",
   "execution_count": null,
   "metadata": {},
   "outputs": [],
   "source": [
    "import os\n",
    "import pickle\n",
    "import pandas as pd\n",
    "import matplotlib as mpl\n",
    "import numpy as np\n",
    "import shutil\n",
    "\n",
    "my_dir = os.getcwd()\n",
    "models = [\"als\", \"bpr\", \"itemknn\", \"pop\", \"slim\", \"vae\"]\n",
    "for model in models:\n",
    "    new_dir = \"... /res/\" + model + \"/\"  # set path to the folder res (results)\n",
    "    dir_list = os.listdir(new_dir)\n",
    "    for elem in dir_list:\n",
    "        if \"down\" in elem:\n",
    "            letter = \"D\"\n",
    "        elif \"standard\" in elem:\n",
    "            letter = \"N\"\n",
    "        elif \"up_sample\" in elem:\n",
    "            letter = \"U\"\n",
    "        fold_dir = new_dir + elem + \"/test/\"\n",
    "        fold_list = os.listdir(fold_dir)\n",
    "        for fold in fold_list:\n",
    "            shutil.copy(fold_dir + fold + \"/full_raw_metrics_beyond_accuracy.pkl\", my_dir + \"/full_raw_metrics_beyond_accuracy_\" + model + letter + \"_\" + fold + \".pkl\")\n",
    "            shutil.copy(fold_dir + fold + \"/full_raw_metrics.pkl\", my_dir + \"/full_raw_metrics_\" + model + letter + \"_\" + fold + \".pkl\")"
   ]
  },
  {
   "cell_type": "code",
   "execution_count": null,
   "metadata": {},
   "outputs": [],
   "source": [
    "all_files = os.listdir(my_dir)\n",
    "list_files = []\n",
    "list_csv = []\n",
    "for elem in all_files:\n",
    "    if \".pkl\" in elem:\n",
    "        list_files.append(elem)\n",
    "        name = elem[:-4]\n",
    "        list_csv.append(name + \".csv\")"
   ]
  },
  {
   "cell_type": "code",
   "execution_count": null,
   "metadata": {},
   "outputs": [],
   "source": [
    "for index, file_name in enumerate(list_files): \n",
    "    with (open(file_name, \"rb\")) as f:\n",
    "        data = pickle.load(f)\n",
    "        df = pd.DataFrame(dict([ (k,pd.Series(v)) for k,v in data.items() ]))\n",
    "        df.to_csv(list_csv[index], sep='\\t')"
   ]
  }
 ],
 "metadata": {
  "kernelspec": {
   "display_name": "Python 3",
   "language": "python",
   "name": "python3"
  },
  "language_info": {
   "codemirror_mode": {
    "name": "ipython",
    "version": 3
   },
   "file_extension": ".py",
   "mimetype": "text/x-python",
   "name": "python",
   "nbconvert_exporter": "python",
   "pygments_lexer": "ipython3",
   "version": "3.8.5"
  }
 },
 "nbformat": 4,
 "nbformat_minor": 4
}
